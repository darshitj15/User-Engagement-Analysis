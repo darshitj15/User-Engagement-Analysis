{
 "cells": [
  {
   "cell_type": "markdown",
   "metadata": {},
   "source": [
    "## Mini-Project-1 \n",
    "**Name: Darshit Jagetiya, Student ID: 014517932**\n",
    "\n",
    "**->**  From the analysis performed below, it is found that the engagement is decreased recently in the last month due to some of the reasons. \n",
    "To find the reason, various operations and queries have been used considering different columns and their relation with the engagement.\n",
    "\n",
    "**->**  The operations has been performed in the following manner considering each of the factor for the decrease in engagement. \n",
    "\n",
    "**->Range of dataset: **  Found the first and last date (range) for each of the tables whose data is given to perform the analysis efficiently.\n",
    "\n",
    "**->Is engagement decreasing?:**  Found if the number of engagements are decreasing recently. Also, checked if only the number of enagagements is decreasing or even number of events for signup_flow has been reduced as well.\n",
    "\n",
    "**-> Reason 1:**  Analyzed the email data set to find the reason for the decrement in the the engagements and not signup_flow.\n",
    "\n",
    "**-> Reason 2:**  Checked for (top 10) companies who has maximum engagements in the last two months.\n",
    "\n",
    "**-> Reason 3:**  There is a possibility that eLinks have a competitor company which is offering the same services. We can check the services offered by the eLinks and check if there is any particular feature which is not used by the users or all the features are not being used."
   ]
  },
  {
   "cell_type": "markdown",
   "metadata": {},
   "source": [
    "Link for databricks project for visualizing along with graphs :\n",
    "https://databricks-prod-cloudfront.cloud.databricks.com/public/4027ec902e239c93eaaa8714f173bcfc/3007571033566758/3282462353226895/1538677595945462/latest.html"
   ]
  },
  {
   "cell_type": "code",
   "execution_count": null,
   "metadata": {},
   "outputs": [],
   "source": [
    "# File location and type\n",
    "file_location = \"/FileStore/tables/users.csv\"\n",
    "file_type = \"csv\"\n",
    "\n",
    "# CSV options\n",
    "infer_schema = \"false\"\n",
    "first_row_is_header = \"true\"\n",
    "delimiter = \",\"\n",
    "\n",
    "# The applied options are for CSV files. For other file types, these will be ignored.\n",
    "df = spark.read.format(file_type) \\\n",
    "  .option(\"inferSchema\", infer_schema) \\\n",
    "  .option(\"header\", first_row_is_header) \\\n",
    "  .option(\"sep\", delimiter) \\\n",
    "  .load(file_location)\n",
    "\n",
    "display(df)"
   ]
  },
  {
   "cell_type": "code",
   "execution_count": null,
   "metadata": {},
   "outputs": [],
   "source": [
    "\n",
    "# File location and type\n",
    "file_location2 = \"/FileStore/tables/emails.csv\"\n",
    "file_type = \"csv\"\n",
    "\n",
    "# CSV options\n",
    "infer_schema = \"false\"\n",
    "first_row_is_header = \"true\"\n",
    "delimiter = \",\"\n",
    "\n",
    "# The applied options are for CSV files. For other file types, these will be ignored.\n",
    "df2 = spark.read.format(file_type) \\\n",
    "  .option(\"inferSchema\", infer_schema) \\\n",
    "  .option(\"header\", first_row_is_header) \\\n",
    "  .option(\"sep\", delimiter) \\\n",
    "  .load(file_location2)\n",
    "\n",
    "display(df2)"
   ]
  },
  {
   "cell_type": "code",
   "execution_count": null,
   "metadata": {},
   "outputs": [],
   "source": [
    "# File location and type\n",
    "file_location3 = \"/FileStore/tables/events.csv\"\n",
    "file_type = \"csv\"\n",
    "\n",
    "# CSV options\n",
    "infer_schema = \"false\"\n",
    "first_row_is_header = \"true\"\n",
    "delimiter = \",\"\n",
    "\n",
    "# The applied options are for CSV files. For other file types, these will be ignored.\n",
    "df3 = spark.read.format(file_type) \\\n",
    "  .option(\"inferSchema\", infer_schema) \\\n",
    "  .option(\"header\", first_row_is_header) \\\n",
    "  .option(\"sep\", delimiter) \\\n",
    "  .load(file_location3)\n",
    "\n",
    "display(df3)"
   ]
  },
  {
   "cell_type": "code",
   "execution_count": 5,
   "metadata": {},
   "outputs": [
    {
     "data": {
      "text/html": [
       "<style scoped>\n",
       "  .ansiout {\n",
       "    display: block;\n",
       "    unicode-bidi: embed;\n",
       "    white-space: pre-wrap;\n",
       "    word-wrap: break-word;\n",
       "    word-break: break-all;\n",
       "    font-family: \"Source Code Pro\", \"Menlo\", monospace;;\n",
       "    font-size: 13px;\n",
       "    color: #555;\n",
       "    margin-left: 4px;\n",
       "    line-height: 19px;\n",
       "  }\n",
       "</style>\n",
       "<div class=\"ansiout\"></div>"
      ]
     },
     "metadata": {},
     "output_type": "display_data"
    }
   ],
   "source": [
    "# Create a view or table\n",
    "\n",
    "temp_table_name = \"users_csv\"\n",
    "\n",
    "df.createOrReplaceTempView(temp_table_name)\n",
    "\n",
    "temp_table_name2=\"emails_csv\"\n",
    "df2.createOrReplaceTempView(temp_table_name2)\n",
    "\n",
    "temp_table_name3=\"events_csv\"\n",
    "df3.createOrReplaceTempView(temp_table_name3)"
   ]
  },
  {
   "cell_type": "markdown",
   "metadata": {},
   "source": [
    "# Analyzing the datasets"
   ]
  },
  {
   "cell_type": "markdown",
   "metadata": {},
   "source": [
    "#### Range of dataset:\n",
    "Found the first and last date (range) for each of the tables whose data is given to perform the analysis efficiently."
   ]
  },
  {
   "cell_type": "code",
   "execution_count": 9,
   "metadata": {},
   "outputs": [
    {
     "data": {
      "text/html": [
       "<style scoped>\n",
       "  .table-result-container {\n",
       "    max-height: 300px;\n",
       "    overflow: auto;\n",
       "  }\n",
       "  table, th, td {\n",
       "    border: 1px solid black;\n",
       "    border-collapse: collapse;\n",
       "  }\n",
       "  th, td {\n",
       "    padding: 5px;\n",
       "  }\n",
       "  th {\n",
       "    text-align: left;\n",
       "  }\n",
       "</style><div class='table-result-container'><table class='table-result'><thead style='background-color: white'><tr><th>min(created_at)</th><th>max(created_at)</th></tr></thead><tbody><tr><td>2013-01-01 04:38:30</td><td>2014-08-31 20:40:32</td></tr></tbody></table></div>"
      ]
     },
     "metadata": {},
     "output_type": "display_data"
    }
   ],
   "source": [
    "%sql\n",
    "SELECT min(created_at),max(created_at) FROM users_csv;"
   ]
  },
  {
   "cell_type": "code",
   "execution_count": 10,
   "metadata": {},
   "outputs": [
    {
     "data": {
      "text/html": [
       "<style scoped>\n",
       "  .table-result-container {\n",
       "    max-height: 300px;\n",
       "    overflow: auto;\n",
       "  }\n",
       "  table, th, td {\n",
       "    border: 1px solid black;\n",
       "    border-collapse: collapse;\n",
       "  }\n",
       "  th, td {\n",
       "    padding: 5px;\n",
       "  }\n",
       "  th {\n",
       "    text-align: left;\n",
       "  }\n",
       "</style><div class='table-result-container'><table class='table-result'><thead style='background-color: white'><tr><th>min(occurred_at)</th><th>max(occurred_at)</th></tr></thead><tbody><tr><td>2014-05-01 00:54:09</td><td>2014-08-31 20:40:32</td></tr></tbody></table></div>"
      ]
     },
     "metadata": {},
     "output_type": "display_data"
    }
   ],
   "source": [
    "%sql\n",
    "SELECT min(occurred_at),max(occurred_at) FROM events_csv;"
   ]
  },
  {
   "cell_type": "code",
   "execution_count": 11,
   "metadata": {},
   "outputs": [
    {
     "data": {
      "text/html": [
       "<style scoped>\n",
       "  .table-result-container {\n",
       "    max-height: 300px;\n",
       "    overflow: auto;\n",
       "  }\n",
       "  table, th, td {\n",
       "    border: 1px solid black;\n",
       "    border-collapse: collapse;\n",
       "  }\n",
       "  th, td {\n",
       "    padding: 5px;\n",
       "  }\n",
       "  th {\n",
       "    text-align: left;\n",
       "  }\n",
       "</style><div class='table-result-container'><table class='table-result'><thead style='background-color: white'><tr><th>min(occurred_at)</th><th>max(occurred_at)</th></tr></thead><tbody><tr><td>2014-05-01 09:28:25</td><td>2014-08-31 23:00:42</td></tr></tbody></table></div>"
      ]
     },
     "metadata": {},
     "output_type": "display_data"
    }
   ],
   "source": [
    "%sql\n",
    "SELECT min(occurred_at),max(occurred_at) FROM emails_csv;"
   ]
  },
  {
   "cell_type": "markdown",
   "metadata": {},
   "source": [
    "#### Number of total, events, engagements events and signu_flow events.\n",
    "Found if the number of engagements are decreasing recently. Also, checked if only the number of enagagements is decreasing or even number of events for signup_flow has been reduced as well."
   ]
  },
  {
   "cell_type": "code",
   "execution_count": 13,
   "metadata": {},
   "outputs": [
    {
     "data": {
      "text/html": [
       "<style scoped>\n",
       "  .table-result-container {\n",
       "    max-height: 300px;\n",
       "    overflow: auto;\n",
       "  }\n",
       "  table, th, td {\n",
       "    border: 1px solid black;\n",
       "    border-collapse: collapse;\n",
       "  }\n",
       "  th, td {\n",
       "    padding: 5px;\n",
       "  }\n",
       "  th {\n",
       "    text-align: left;\n",
       "  }\n",
       "</style><div class='table-result-container'><table class='table-result'><thead style='background-color: white'><tr><th>month</th><th>total_events</th><th>engaged_event</th></tr></thead><tbody><tr><td>2014-05-01T00:00:00.000+0000</td><td>39234</td><td>35078</td></tr><tr><td>2014-06-01T00:00:00.000+0000</td><td>37357</td><td>32764</td></tr><tr><td>2014-07-01T00:00:00.000+0000</td><td>41267</td><td>36055</td></tr><tr><td>2014-08-01T00:00:00.000+0000</td><td>32142</td><td>26846</td></tr></tbody></table></div>"
      ]
     },
     "metadata": {},
     "output_type": "display_data"
    }
   ],
   "source": [
    "%sql\n",
    "SELECT DATE_TRUNC('month',ev.occurred_at) as month, COUNT(*) AS total_events,\n",
    "COUNT(CASE WHEN event_type=\"engagement\" THEN u.user_id END) AS engaged_event\n",
    "FROM users_csv u join events_csv ev using (user_id)\n",
    "where ev.occurred_at>'2014-05-01' \n",
    "group by 1\n",
    "order by 1;\n",
    "--The total events is decreased and the engaging events is also decreasing."
   ]
  },
  {
   "cell_type": "code",
   "execution_count": 14,
   "metadata": {},
   "outputs": [
    {
     "data": {
      "text/html": [
       "<style scoped>\n",
       "  .table-result-container {\n",
       "    max-height: 300px;\n",
       "    overflow: auto;\n",
       "  }\n",
       "  table, th, td {\n",
       "    border: 1px solid black;\n",
       "    border-collapse: collapse;\n",
       "  }\n",
       "  th, td {\n",
       "    padding: 5px;\n",
       "  }\n",
       "  th {\n",
       "    text-align: left;\n",
       "  }\n",
       "</style><div class='table-result-container'><table class='table-result'><thead style='background-color: white'><tr><th>month</th><th>signup_flow_events</th></tr></thead><tbody><tr><td>2014-05-01T00:00:00.000+0000</td><td>4156</td></tr><tr><td>2014-06-01T00:00:00.000+0000</td><td>4593</td></tr><tr><td>2014-07-01T00:00:00.000+0000</td><td>5212</td></tr><tr><td>2014-08-01T00:00:00.000+0000</td><td>5296</td></tr></tbody></table></div>"
      ]
     },
     "metadata": {},
     "output_type": "display_data"
    }
   ],
   "source": [
    "%sql\n",
    "SELECT DATE_TRUNC('month',ev.occurred_at) as month, count(*) AS signup_flow_events\n",
    "FROM  events_csv ev \n",
    "where event_type=\"signup_flow\" and (ev.occurred_at>'2014-04' and ev.occurred_at<'2014-09')\n",
    "group by 1\n",
    "order by 1;\n",
    "--This shows that though, the number of engaging and total_event is decreasing, signup_flow event_type is increasing in the last month."
   ]
  },
  {
   "cell_type": "code",
   "execution_count": null,
   "metadata": {},
   "outputs": [],
   "source": [
    "%sql\n",
    "SELECT DATE_TRUNC('day',ev.occurred_at) as day, COUNT(*) AS total_events,\n",
    "COUNT(CASE WHEN event_type=\"engagement\" THEN u.user_id END) AS engaged_events\n",
    "FROM users_csv u join events_csv ev using (user_id)\n",
    "where ev.occurred_at>'2014-05-01' \n",
    "group by 1\n",
    "order by 1;"
   ]
  },
  {
   "cell_type": "code",
   "execution_count": null,
   "metadata": {},
   "outputs": [],
   "source": [
    "%sql\n",
    "SELECT DATE_TRUNC('day',ev.occurred_at) as day, count(*) AS signup_flow_events\n",
    "FROM  events_csv ev \n",
    "where event_type=\"signup_flow\" and (ev.occurred_at>'2014-04' and ev.occurred_at<'2014-09')\n",
    "group by 1\n",
    "order by 1;"
   ]
  },
  {
   "cell_type": "markdown",
   "metadata": {},
   "source": [
    "#### Thus, from the above bar graphs and tables it is clear that the number of engagements is decreasing recently."
   ]
  },
  {
   "cell_type": "markdown",
   "metadata": {},
   "source": [
    "### Analysing email dataset (Reason 1)\n",
    "Here, I have found one of the reason which has impacted the decrement in user engagement."
   ]
  },
  {
   "cell_type": "code",
   "execution_count": 19,
   "metadata": {},
   "outputs": [
    {
     "data": {
      "text/html": [
       "<style scoped>\n",
       "  .table-result-container {\n",
       "    max-height: 300px;\n",
       "    overflow: auto;\n",
       "  }\n",
       "  table, th, td {\n",
       "    border: 1px solid black;\n",
       "    border-collapse: collapse;\n",
       "  }\n",
       "  th, td {\n",
       "    padding: 5px;\n",
       "  }\n",
       "  th {\n",
       "    text-align: left;\n",
       "  }\n",
       "</style><div class='table-result-container'><table class='table-result'><thead style='background-color: white'><tr><th>month</th><th>emails</th></tr></thead><tbody><tr><td>2014-05-01T00:00:00.000+0000</td><td>18723</td></tr><tr><td>2014-06-01T00:00:00.000+0000</td><td>20976</td></tr><tr><td>2014-07-01T00:00:00.000+0000</td><td>25167</td></tr><tr><td>2014-08-01T00:00:00.000+0000</td><td>25523</td></tr></tbody></table></div>"
      ]
     },
     "metadata": {},
     "output_type": "display_data"
    }
   ],
   "source": [
    "%sql\n",
    "SELECT DATE_TRUNC('month',occurred_at) as month,count(*) as emails\n",
    "FROM emails_csv \n",
    "group by month\n",
    "order by month;\n",
    "--sent_weekly_digestemail_openemail_clickthrough\n"
   ]
  },
  {
   "cell_type": "code",
   "execution_count": 20,
   "metadata": {},
   "outputs": [
    {
     "data": {
      "text/html": [
       "<style scoped>\n",
       "  .table-result-container {\n",
       "    max-height: 300px;\n",
       "    overflow: auto;\n",
       "  }\n",
       "  table, th, td {\n",
       "    border: 1px solid black;\n",
       "    border-collapse: collapse;\n",
       "  }\n",
       "  th, td {\n",
       "    padding: 5px;\n",
       "  }\n",
       "  th {\n",
       "    text-align: left;\n",
       "  }\n",
       "</style><div class='table-result-container'><table class='table-result'><thead style='background-color: white'><tr><th>month</th><th>weekly_digest</th></tr></thead><tbody><tr><td>2014-05-01T00:00:00.000+0000</td><td>11730</td></tr><tr><td>2014-06-01T00:00:00.000+0000</td><td>13155</td></tr><tr><td>2014-07-01T00:00:00.000+0000</td><td>15902</td></tr><tr><td>2014-08-01T00:00:00.000+0000</td><td>16480</td></tr></tbody></table></div>"
      ]
     },
     "metadata": {},
     "output_type": "display_data"
    }
   ],
   "source": [
    "%sql\n",
    "SELECT DATE_TRUNC('month',occurred_at) as month,count(*) as weekly_digest\n",
    "FROM emails_csv \n",
    "where action=\"sent_weekly_digest\"\n",
    "GROUP BY month\n",
    "ORDER BY month;\n",
    "--sent_weekly_digestemail_openemail_clickthrough\n"
   ]
  },
  {
   "cell_type": "code",
   "execution_count": 21,
   "metadata": {},
   "outputs": [
    {
     "data": {
      "text/html": [
       "<style scoped>\n",
       "  .table-result-container {\n",
       "    max-height: 300px;\n",
       "    overflow: auto;\n",
       "  }\n",
       "  table, th, td {\n",
       "    border: 1px solid black;\n",
       "    border-collapse: collapse;\n",
       "  }\n",
       "  th, td {\n",
       "    padding: 5px;\n",
       "  }\n",
       "  th {\n",
       "    text-align: left;\n",
       "  }\n",
       "</style><div class='table-result-container'><table class='table-result'><thead style='background-color: white'><tr><th>month</th><th>emails_open</th></tr></thead><tbody><tr><td>2014-05-01T00:00:00.000+0000</td><td>4212</td></tr><tr><td>2014-06-01T00:00:00.000+0000</td><td>4658</td></tr><tr><td>2014-07-01T00:00:00.000+0000</td><td>5611</td></tr><tr><td>2014-08-01T00:00:00.000+0000</td><td>5978</td></tr></tbody></table></div>"
      ]
     },
     "metadata": {},
     "output_type": "display_data"
    }
   ],
   "source": [
    "%sql\n",
    "SELECT DATE_TRUNC('month',occurred_at) as month,count(*) as emails_open\n",
    "FROM emails_csv \n",
    "where action=\"email_open\"\n",
    "GROUP BY month\n",
    "ORDER BY month;"
   ]
  },
  {
   "cell_type": "code",
   "execution_count": 22,
   "metadata": {},
   "outputs": [
    {
     "data": {
      "text/html": [
       "<style scoped>\n",
       "  .table-result-container {\n",
       "    max-height: 300px;\n",
       "    overflow: auto;\n",
       "  }\n",
       "  table, th, td {\n",
       "    border: 1px solid black;\n",
       "    border-collapse: collapse;\n",
       "  }\n",
       "  th, td {\n",
       "    padding: 5px;\n",
       "  }\n",
       "  th {\n",
       "    text-align: left;\n",
       "  }\n",
       "</style><div class='table-result-container'><table class='table-result'><thead style='background-color: white'><tr><th>month</th><th>emails_clickthrough</th></tr></thead><tbody><tr><td>2014-05-01T00:00:00.000+0000</td><td>2023</td></tr><tr><td>2014-06-01T00:00:00.000+0000</td><td>2274</td></tr><tr><td>2014-07-01T00:00:00.000+0000</td><td>2721</td></tr><tr><td>2014-08-01T00:00:00.000+0000</td><td>1992</td></tr></tbody></table></div>"
      ]
     },
     "metadata": {},
     "output_type": "display_data"
    }
   ],
   "source": [
    "%sql\n",
    "SELECT DATE_TRUNC('month',occurred_at) as month,count(*) as emails_clickthrough\n",
    "FROM emails_csv \n",
    "where action=\"email_clickthrough\"\n",
    "GROUP BY month\n",
    "ORDER BY month;"
   ]
  },
  {
   "cell_type": "markdown",
   "metadata": {},
   "source": [
    "### Reason 1 for decrease in engagements:\n",
    "The first and the foremost reason is due to the weekly_digest sent through the emails. The weekly_digest sent in the month 5 and 6 are very low comparatively to the 7 and 8 month. As the number of weekly digest are increasing in the last 2 months, the number of actions that users have opened the emails is increased but number of clickthroughs are not increased. This shows that too frequent weekly_digest sent to the users have decreased the clickthrough as the weekly_digest sent to users is very trivial. In month 5 and 6, with less weekly_digest sent to the user, still the number of email_clickthrough is found to be higher than the last month.\n",
    "\n",
    "\n",
    "\n",
    "Weekly digest: 2014-05 -> 18723,  2014-06 -> 20976,   2014-07 -> 25167,   2014-08 -> 25523\n",
    "\n",
    "Email open: 2014-05 ->11730,  2014-06 ->13155,  2014-07 ->15902,  2014-08 ->16480\n",
    "\n",
    "Email clickthrough: 2014-05 ->2023, 2014-06 ->2274, 2014-07 ->2721, 2014-08 ->1992\n",
    "\n",
    "The above reason can be more clearly explained if data in emails table was given for the first 4 months of 2014. If I was working for the company, then I would ask for more data for the above table from my company."
   ]
  },
  {
   "cell_type": "markdown",
   "metadata": {},
   "source": [
    "\n",
    "### Analyzing for companies (Reason 2):\n",
    "  First we will check if the number of companies using eLinks have decreased. Then we will check if the number of engagements per company have decreased or not."
   ]
  },
  {
   "cell_type": "code",
   "execution_count": 25,
   "metadata": {},
   "outputs": [
    {
     "data": {
      "text/html": [
       "<style scoped>\n",
       "  .table-result-container {\n",
       "    max-height: 300px;\n",
       "    overflow: auto;\n",
       "  }\n",
       "  table, th, td {\n",
       "    border: 1px solid black;\n",
       "    border-collapse: collapse;\n",
       "  }\n",
       "  th, td {\n",
       "    padding: 5px;\n",
       "  }\n",
       "  th {\n",
       "    text-align: left;\n",
       "  }\n",
       "</style><div class='table-result-container'><table class='table-result'><thead style='background-color: white'><tr><th>total_number_of_companies</th></tr></thead><tbody><tr><td>13198</td></tr></tbody></table></div>"
      ]
     },
     "metadata": {},
     "output_type": "display_data"
    }
   ],
   "source": [
    "%sql\n",
    "SELECT count(DISTINCT(company_id)) as total_number_of_companies from users_csv;"
   ]
  },
  {
   "cell_type": "code",
   "execution_count": 26,
   "metadata": {},
   "outputs": [
    {
     "data": {
      "text/html": [
       "<style scoped>\n",
       "  .table-result-container {\n",
       "    max-height: 300px;\n",
       "    overflow: auto;\n",
       "  }\n",
       "  table, th, td {\n",
       "    border: 1px solid black;\n",
       "    border-collapse: collapse;\n",
       "  }\n",
       "  th, td {\n",
       "    padding: 5px;\n",
       "  }\n",
       "  th {\n",
       "    text-align: left;\n",
       "  }\n",
       "</style><div class='table-result-container'><table class='table-result'><thead style='background-color: white'><tr><th>month</th><th>number_of_companies</th></tr></thead><tbody><tr><td>2014-05-01T00:00:00.000+0000</td><td>1169</td></tr><tr><td>2014-06-01T00:00:00.000+0000</td><td>1270</td></tr><tr><td>2014-07-01T00:00:00.000+0000</td><td>1364</td></tr><tr><td>2014-08-01T00:00:00.000+0000</td><td>1269</td></tr></tbody></table></div>"
      ]
     },
     "metadata": {},
     "output_type": "display_data"
    }
   ],
   "source": [
    "%sql\n",
    "SELECT DATE_TRUNC('month',ev.occurred_at) as month,count(DISTINCT(company_id)) as number_of_companies\n",
    "FROM users_csv u join events_csv ev using (user_id) \n",
    "where ev.event_type=\"engagement\" and ev.occurred_at>='2014-05-01'\n",
    "group by 1\n",
    "order by 1;"
   ]
  },
  {
   "cell_type": "markdown",
   "metadata": {},
   "source": [
    "#### The above table shows that the number of companies using eLinks have not been decreasing per month. But only their engagement can be decreasing which is checked in the next step. We can check it for only the first 15 companies which will make a significant impact."
   ]
  },
  {
   "cell_type": "code",
   "execution_count": 28,
   "metadata": {},
   "outputs": [
    {
     "data": {
      "text/html": [
       "<style scoped>\n",
       "  .table-result-container {\n",
       "    max-height: 300px;\n",
       "    overflow: auto;\n",
       "  }\n",
       "  table, th, td {\n",
       "    border: 1px solid black;\n",
       "    border-collapse: collapse;\n",
       "  }\n",
       "  th, td {\n",
       "    padding: 5px;\n",
       "  }\n",
       "  th {\n",
       "    text-align: left;\n",
       "  }\n",
       "</style><div class='table-result-container'><table class='table-result'><thead style='background-color: white'><tr><th>company_id</th><th>number_of_engagements</th></tr></thead><tbody><tr><td>1.0</td><td>2156</td></tr><tr><td>2.0</td><td>1283</td></tr><tr><td>6.0</td><td>792</td></tr><tr><td>3.0</td><td>728</td></tr><tr><td>4.0</td><td>497</td></tr><tr><td>13.0</td><td>433</td></tr><tr><td>7.0</td><td>388</td></tr><tr><td>10.0</td><td>363</td></tr><tr><td>8.0</td><td>344</td></tr><tr><td>5.0</td><td>332</td></tr><tr><td>9.0</td><td>262</td></tr><tr><td>6789.0</td><td>253</td></tr><tr><td>24.0</td><td>235</td></tr><tr><td>44.0</td><td>197</td></tr><tr><td>255.0</td><td>194</td></tr></tbody></table></div>"
      ]
     },
     "metadata": {},
     "output_type": "display_data"
    }
   ],
   "source": [
    "%sql\n",
    "SELECT u.company_id, count(*) as number_of_engagements\n",
    "FROM users_csv u JOIN events_csv ev USING (user_id)\n",
    "WHERE event_type=\"engagement\" and (ev.occurred_at>'2014-06-30' and ev.occurred_at<'2014-08-01')\n",
    "GROUP BY 1\n",
    "ORDER BY 2 desc Limit 15;"
   ]
  },
  {
   "cell_type": "code",
   "execution_count": 29,
   "metadata": {},
   "outputs": [
    {
     "data": {
      "text/html": [
       "<style scoped>\n",
       "  .table-result-container {\n",
       "    max-height: 300px;\n",
       "    overflow: auto;\n",
       "  }\n",
       "  table, th, td {\n",
       "    border: 1px solid black;\n",
       "    border-collapse: collapse;\n",
       "  }\n",
       "  th, td {\n",
       "    padding: 5px;\n",
       "  }\n",
       "  th {\n",
       "    text-align: left;\n",
       "  }\n",
       "</style><div class='table-result-container'><table class='table-result'><thead style='background-color: white'><tr><th>company_id</th><th>number_of_engagements</th></tr></thead><tbody><tr><td>1.0</td><td>1256</td></tr><tr><td>3.0</td><td>1113</td></tr><tr><td>2.0</td><td>484</td></tr><tr><td>4.0</td><td>429</td></tr><tr><td>8.0</td><td>384</td></tr><tr><td>13.0</td><td>286</td></tr><tr><td>6789.0</td><td>269</td></tr><tr><td>5343.0</td><td>264</td></tr><tr><td>10.0</td><td>196</td></tr><tr><td>5.0</td><td>194</td></tr><tr><td>7.0</td><td>188</td></tr><tr><td>1242.0</td><td>187</td></tr><tr><td>123.0</td><td>186</td></tr><tr><td>19.0</td><td>185</td></tr><tr><td>106.0</td><td>181</td></tr></tbody></table></div>"
      ]
     },
     "metadata": {},
     "output_type": "display_data"
    }
   ],
   "source": [
    "%sql\n",
    "SELECT u.company_id, count(*) number_of_engagements\n",
    "FROM users_csv u JOIN events_csv ev USING (user_id)\n",
    "WHERE event_type=\"engagement\" and (ev.occurred_at>'2014-07-31' and ev.occurred_at<'2014-09-01')\n",
    "GROUP BY 1\n",
    "ORDER BY 2 desc Limit 15;"
   ]
  },
  {
   "cell_type": "markdown",
   "metadata": {},
   "source": [
    "### Reason 2 for decrease in engagements:\n",
    "From the above analysis, we found that the number of companies using eLinks have not decreased significantly but only the number of engagements per company has decreased.\n",
    "This can be happening due to the decrease in  the workload of the employees of the company. We can check for the 15 companies which has highest user enagagement for the last 2 months. \n",
    "\n",
    "It can be seen that for company_id 1, which had 2156 user enagagements in July (2014-07), has only 1256 engagements in August (2014-07). Similarly, for company_id 2, the engagements has dropped from 1283 to 484 from July to August."
   ]
  },
  {
   "cell_type": "markdown",
   "metadata": {},
   "source": [
    "#### To check if the number of users has decreased in the last month which can be the reason for decrease in engagement rather than workload of the users."
   ]
  },
  {
   "cell_type": "code",
   "execution_count": 32,
   "metadata": {},
   "outputs": [
    {
     "data": {
      "text/html": [
       "<style scoped>\n",
       "  .table-result-container {\n",
       "    max-height: 300px;\n",
       "    overflow: auto;\n",
       "  }\n",
       "  table, th, td {\n",
       "    border: 1px solid black;\n",
       "    border-collapse: collapse;\n",
       "  }\n",
       "  th, td {\n",
       "    padding: 5px;\n",
       "  }\n",
       "  th {\n",
       "    text-align: left;\n",
       "  }\n",
       "</style><div class='table-result-container'><table class='table-result'><thead style='background-color: white'><tr><th>total_user_id</th></tr></thead><tbody><tr><td>19066</td></tr></tbody></table></div>"
      ]
     },
     "metadata": {},
     "output_type": "display_data"
    }
   ],
   "source": [
    "%sql\n",
    "SELECT count(DISTINCT(u.user_id)) as total_user_id\n",
    "from users_csv u;"
   ]
  },
  {
   "cell_type": "code",
   "execution_count": 33,
   "metadata": {},
   "outputs": [
    {
     "data": {
      "text/html": [
       "<style scoped>\n",
       "  .table-result-container {\n",
       "    max-height: 300px;\n",
       "    overflow: auto;\n",
       "  }\n",
       "  table, th, td {\n",
       "    border: 1px solid black;\n",
       "    border-collapse: collapse;\n",
       "  }\n",
       "  th, td {\n",
       "    padding: 5px;\n",
       "  }\n",
       "  th {\n",
       "    text-align: left;\n",
       "  }\n",
       "</style><div class='table-result-container'><table class='table-result'><thead style='background-color: white'><tr><th>userid_appearing_in_events</th></tr></thead><tbody><tr><td>4878</td></tr></tbody></table></div>"
      ]
     },
     "metadata": {},
     "output_type": "display_data"
    }
   ],
   "source": [
    "%sql\n",
    "SELECT count(DISTINCT(ev.user_id)) as userid_appearing_in_events\n",
    "FROM  events_csv ev \n",
    "where ev.event_type=\"engagement\" and ev.occurred_at>'2014-04-01' ;"
   ]
  },
  {
   "cell_type": "code",
   "execution_count": 34,
   "metadata": {},
   "outputs": [
    {
     "data": {
      "text/html": [
       "<style scoped>\n",
       "  .table-result-container {\n",
       "    max-height: 300px;\n",
       "    overflow: auto;\n",
       "  }\n",
       "  table, th, td {\n",
       "    border: 1px solid black;\n",
       "    border-collapse: collapse;\n",
       "  }\n",
       "  th, td {\n",
       "    padding: 5px;\n",
       "  }\n",
       "  th {\n",
       "    text-align: left;\n",
       "  }\n",
       "</style><div class='table-result-container'><table class='table-result'><thead style='background-color: white'><tr><th>distinct_users</th><th>month</th></tr></thead><tbody><tr><td>1494</td><td>2014-05-01T00:00:00.000+0000</td></tr><tr><td>1614</td><td>2014-06-01T00:00:00.000+0000</td></tr><tr><td>1764</td><td>2014-07-01T00:00:00.000+0000</td></tr><tr><td>1611</td><td>2014-08-01T00:00:00.000+0000</td></tr></tbody></table></div>"
      ]
     },
     "metadata": {},
     "output_type": "display_data"
    }
   ],
   "source": [
    "%sql\n",
    "SELECT count(DISTINCT(ev.user_id)) as distinct_users,DATE_TRUNC('month',ev.occurred_at) as month\n",
    "FROM  events_csv ev \n",
    "where ev.event_type=\"engagement\" and ev.occurred_at>='2014-05-01'\n",
    "group by 2\n",
    "order by 2;\n",
    "\n",
    "--This shows that the number of users are not decreased significanlty in the last month, but only their engagement is decreased.\n",
    "--Thus, decrement in number of users is not the reason for decrement in engagement."
   ]
  },
  {
   "cell_type": "markdown",
   "metadata": {},
   "source": [
    "#### This proves that our reason 2 for decrease in workload is still valid as number of users are not decreasing. Our output shows that the number of users have not decreased significantly but only engagement per user has been decreased."
   ]
  },
  {
   "cell_type": "markdown",
   "metadata": {},
   "source": [
    "### Is the userinterface getting bad for eLinks and have a competitor providing same services. (Reason 3)\n",
    "Check if all the engagement events are decreasing or only few of them are decreasing. Based on that we can decide if user interface of eLinks has got bad because though more number of people are signing_up, they are not using their eLinks after that."
   ]
  },
  {
   "cell_type": "code",
   "execution_count": 37,
   "metadata": {},
   "outputs": [
    {
     "data": {
      "text/html": [
       "<style scoped>\n",
       "  .table-result-container {\n",
       "    max-height: 300px;\n",
       "    overflow: auto;\n",
       "  }\n",
       "  table, th, td {\n",
       "    border: 1px solid black;\n",
       "    border-collapse: collapse;\n",
       "  }\n",
       "  th, td {\n",
       "    padding: 5px;\n",
       "  }\n",
       "  th {\n",
       "    text-align: left;\n",
       "  }\n",
       "</style><div class='table-result-container'><table class='table-result'><thead style='background-color: white'><tr><th>month</th><th>home_page_engagements</th></tr></thead><tbody><tr><td>2014-05-01T00:00:00.000+0000</td><td>10319</td></tr><tr><td>2014-06-01T00:00:00.000+0000</td><td>9684</td></tr><tr><td>2014-07-01T00:00:00.000+0000</td><td>10589</td></tr><tr><td>2014-08-01T00:00:00.000+0000</td><td>7922</td></tr></tbody></table></div>"
      ]
     },
     "metadata": {},
     "output_type": "display_data"
    }
   ],
   "source": [
    "%sql\n",
    "SELECT  DATE_TRUNC('month',occurred_at) as month,count(event_name) as home_page_engagements\n",
    "FROM events_csv \n",
    "WHERE event_name in ('home_page')\n",
    "GROUP BY month\n",
    "ORDER BY month;"
   ]
  },
  {
   "cell_type": "code",
   "execution_count": 38,
   "metadata": {},
   "outputs": [
    {
     "data": {
      "text/html": [
       "<style scoped>\n",
       "  .table-result-container {\n",
       "    max-height: 300px;\n",
       "    overflow: auto;\n",
       "  }\n",
       "  table, th, td {\n",
       "    border: 1px solid black;\n",
       "    border-collapse: collapse;\n",
       "  }\n",
       "  th, td {\n",
       "    padding: 5px;\n",
       "  }\n",
       "  th {\n",
       "    text-align: left;\n",
       "  }\n",
       "</style><div class='table-result-container'><table class='table-result'><thead style='background-color: white'><tr><th>month</th><th>like_message_engagements</th></tr></thead><tbody><tr><td>2014-05-01T00:00:00.000+0000</td><td>6723</td></tr><tr><td>2014-06-01T00:00:00.000+0000</td><td>6118</td></tr><tr><td>2014-07-01T00:00:00.000+0000</td><td>6661</td></tr><tr><td>2014-08-01T00:00:00.000+0000</td><td>4913</td></tr></tbody></table></div>"
      ]
     },
     "metadata": {},
     "output_type": "display_data"
    }
   ],
   "source": [
    "%sql\n",
    "SELECT  DATE_TRUNC('month',occurred_at) as month,count(event_name) as like_message_engagements\n",
    "FROM events_csv\n",
    "WHERE event_name in ('like_message')\n",
    "GROUP BY month\n",
    "ORDER BY month;"
   ]
  },
  {
   "cell_type": "code",
   "execution_count": 39,
   "metadata": {},
   "outputs": [
    {
     "data": {
      "text/html": [
       "<style scoped>\n",
       "  .table-result-container {\n",
       "    max-height: 300px;\n",
       "    overflow: auto;\n",
       "  }\n",
       "  table, th, td {\n",
       "    border: 1px solid black;\n",
       "    border-collapse: collapse;\n",
       "  }\n",
       "  th, td {\n",
       "    padding: 5px;\n",
       "  }\n",
       "  th {\n",
       "    text-align: left;\n",
       "  }\n",
       "</style><div class='table-result-container'><table class='table-result'><thead style='background-color: white'><tr><th>month</th><th>login_engagements</th></tr></thead><tbody><tr><td>2014-05-01T00:00:00.000+0000</td><td>3939</td></tr><tr><td>2014-06-01T00:00:00.000+0000</td><td>3835</td></tr><tr><td>2014-07-01T00:00:00.000+0000</td><td>4185</td></tr><tr><td>2014-08-01T00:00:00.000+0000</td><td>3293</td></tr></tbody></table></div>"
      ]
     },
     "metadata": {},
     "output_type": "display_data"
    }
   ],
   "source": [
    "%sql\n",
    "SELECT  DATE_TRUNC('month',occurred_at) as month,count(event_name) as login_engagements\n",
    "FROM events_csv \n",
    "WHERE event_name in ('login')\n",
    "GROUP BY month\n",
    "ORDER BY month;"
   ]
  },
  {
   "cell_type": "code",
   "execution_count": 40,
   "metadata": {},
   "outputs": [
    {
     "data": {
      "text/html": [
       "<style scoped>\n",
       "  .table-result-container {\n",
       "    max-height: 300px;\n",
       "    overflow: auto;\n",
       "  }\n",
       "  table, th, td {\n",
       "    border: 1px solid black;\n",
       "    border-collapse: collapse;\n",
       "  }\n",
       "  th, td {\n",
       "    padding: 5px;\n",
       "  }\n",
       "  th {\n",
       "    text-align: left;\n",
       "  }\n",
       "</style><div class='table-result-container'><table class='table-result'><thead style='background-color: white'><tr><th>month</th><th>search_autocomplete_engagements</th></tr></thead><tbody><tr><td>2014-05-01T00:00:00.000+0000</td><td>1692</td></tr><tr><td>2014-06-01T00:00:00.000+0000</td><td>1732</td></tr><tr><td>2014-07-01T00:00:00.000+0000</td><td>1888</td></tr><tr><td>2014-08-01T00:00:00.000+0000</td><td>1619</td></tr></tbody></table></div>"
      ]
     },
     "metadata": {},
     "output_type": "display_data"
    }
   ],
   "source": [
    "%sql\n",
    "SELECT  DATE_TRUNC('month',occurred_at) as month,count(event_name) as search_autocomplete_engagements\n",
    "FROM events_csv \n",
    "WHERE event_name in ('search_autocomplete')\n",
    "GROUP BY month\n",
    "ORDER BY month;"
   ]
  },
  {
   "cell_type": "code",
   "execution_count": 41,
   "metadata": {},
   "outputs": [
    {
     "data": {
      "text/html": [
       "<style scoped>\n",
       "  .table-result-container {\n",
       "    max-height: 300px;\n",
       "    overflow: auto;\n",
       "  }\n",
       "  table, th, td {\n",
       "    border: 1px solid black;\n",
       "    border-collapse: collapse;\n",
       "  }\n",
       "  th, td {\n",
       "    padding: 5px;\n",
       "  }\n",
       "  th {\n",
       "    text-align: left;\n",
       "  }\n",
       "</style><div class='table-result-container'><table class='table-result'><thead style='background-color: white'><tr><th>month</th><th>search_run_engagements</th></tr></thead><tbody><tr><td>2014-05-01T00:00:00.000+0000</td><td>1458</td></tr><tr><td>2014-06-01T00:00:00.000+0000</td><td>1265</td></tr><tr><td>2014-07-01T00:00:00.000+0000</td><td>1500</td></tr><tr><td>2014-08-01T00:00:00.000+0000</td><td>965</td></tr></tbody></table></div>"
      ]
     },
     "metadata": {},
     "output_type": "display_data"
    }
   ],
   "source": [
    "%sql\n",
    "SELECT  DATE_TRUNC('month',occurred_at) as month,count(event_name) as search_run_engagements\n",
    "FROM events_csv \n",
    "WHERE event_name in ('search_run')\n",
    "GROUP BY month\n",
    "ORDER BY month;"
   ]
  },
  {
   "cell_type": "code",
   "execution_count": 42,
   "metadata": {},
   "outputs": [
    {
     "data": {
      "text/html": [
       "<style scoped>\n",
       "  .table-result-container {\n",
       "    max-height: 300px;\n",
       "    overflow: auto;\n",
       "  }\n",
       "  table, th, td {\n",
       "    border: 1px solid black;\n",
       "    border-collapse: collapse;\n",
       "  }\n",
       "  th, td {\n",
       "    padding: 5px;\n",
       "  }\n",
       "  th {\n",
       "    text-align: left;\n",
       "  }\n",
       "</style><div class='table-result-container'><table class='table-result'><thead style='background-color: white'><tr><th>month</th><th>send_message_engagements</th></tr></thead><tbody><tr><td>2014-05-01T00:00:00.000+0000</td><td>3731</td></tr><tr><td>2014-06-01T00:00:00.000+0000</td><td>3516</td></tr><tr><td>2014-07-01T00:00:00.000+0000</td><td>3716</td></tr><tr><td>2014-08-01T00:00:00.000+0000</td><td>2640</td></tr></tbody></table></div>"
      ]
     },
     "metadata": {},
     "output_type": "display_data"
    }
   ],
   "source": [
    "%sql\n",
    "SELECT  DATE_TRUNC('month',occurred_at) as month,count(event_name) as send_message_engagements\n",
    "FROM events_csv \n",
    "WHERE event_name in ('send_message')\n",
    "GROUP BY month\n",
    "ORDER BY month;"
   ]
  },
  {
   "cell_type": "code",
   "execution_count": 43,
   "metadata": {},
   "outputs": [
    {
     "data": {
      "text/html": [
       "<style scoped>\n",
       "  .table-result-container {\n",
       "    max-height: 300px;\n",
       "    overflow: auto;\n",
       "  }\n",
       "  table, th, td {\n",
       "    border: 1px solid black;\n",
       "    border-collapse: collapse;\n",
       "  }\n",
       "  th, td {\n",
       "    padding: 5px;\n",
       "  }\n",
       "  th {\n",
       "    text-align: left;\n",
       "  }\n",
       "</style><div class='table-result-container'><table class='table-result'><thead style='background-color: white'><tr><th>month</th><th>view_inbox_engagements</th></tr></thead><tbody><tr><td>2014-05-01T00:00:00.000+0000</td><td>6003</td></tr><tr><td>2014-06-01T00:00:00.000+0000</td><td>5684</td></tr><tr><td>2014-07-01T00:00:00.000+0000</td><td>6376</td></tr><tr><td>2014-08-01T00:00:00.000+0000</td><td>4802</td></tr></tbody></table></div>"
      ]
     },
     "metadata": {},
     "output_type": "display_data"
    }
   ],
   "source": [
    "%sql\n",
    "SELECT  DATE_TRUNC('month',occurred_at) as month,count(event_name) as view_inbox_engagements\n",
    "FROM events_csv \n",
    "WHERE event_name in ('view_inbox')\n",
    "GROUP BY month\n",
    "ORDER BY month;"
   ]
  },
  {
   "cell_type": "markdown",
   "metadata": {},
   "source": [
    "### Reason 3:\n",
    "We can see that for all such events for engagement, there is a significant decrease observed except search_autocomplete. Auto_complete happens when that search has been already looked for on eLinks. For new searches, engagements have been decreased. This can be a reason for the users not preferring eLinks due to bad results or bad user interfaces but sticking to it for old searches. The same reason can be concluded with the reason 1, where the users donot clickthrough on the emails sent in the weekly digest."
   ]
  },
  {
   "cell_type": "markdown",
   "metadata": {},
   "source": [
    "##### What are the findings regarding whether drop in user activity is significant or no. What seems like the most likely cause of the drop in engagement?\n",
    "\n",
    "There is significant difference found in  number of engagements for the last month.\n",
    "\n",
    "The main reason for that can be reason 1 and reason 3. Also they are both correlated but different."
   ]
  },
  {
   "cell_type": "markdown",
   "metadata": {},
   "source": [
    "##### If there are questions that I can't answer using data alone, how would I go about answering them (hypothetically, assuming I actually worked at this company)? What, if anything, should the company do in response?\n",
    "\n",
    "Such questions would be taking a review from my customers about the user interface and quality of service being offered. This will tell us how the users feel about our weekly_digest as well if they are being sent too trivial and frequently. Also, if I was working for this company this then I would be aware about the competitors and the difference in services which are being offered by them and will work on that data.\n",
    "\n",
    "ELinks should analyze what are the important events that should be sent in the weekly_digest. Provide some discounts for newly joined users as there number is increasing but their engagament is not increasing. Improve and modernize their user interface for thew newly joined users."
   ]
  },
  {
   "cell_type": "markdown",
   "metadata": {},
   "source": [
    "##### Conclusion:\n",
    "The engagement of eLinks is decreased due to less workload in the month of August for companies, bad user interface and bad search results compared to a competitive company and too frequent weekly digest sent to users which they don't find interesting."
   ]
  }
 ],
 "metadata": {
  "kernelspec": {
   "display_name": "Python 3",
   "language": "python",
   "name": "python3"
  },
  "language_info": {
   "codemirror_mode": {
    "name": "ipython",
    "version": 3
   },
   "file_extension": ".py",
   "mimetype": "text/x-python",
   "name": "python",
   "nbconvert_exporter": "python",
   "pygments_lexer": "ipython3",
   "version": "3.7.4"
  },
  "name": "Shirani-3-2-2020-Uploading-Data",
  "notebookId": 3282462353226895
 },
 "nbformat": 4,
 "nbformat_minor": 4
}
